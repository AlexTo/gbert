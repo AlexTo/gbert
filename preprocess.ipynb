{
 "cells": [
  {
   "cell_type": "code",
   "execution_count": 22,
   "metadata": {},
   "outputs": [],
   "source": [
    "import numpy as np\n",
    "from figer_preprocessing import *\n",
    "import pickle"
   ]
  },
  {
   "cell_type": "code",
   "execution_count": 19,
   "metadata": {},
   "outputs": [],
   "source": [
    "from numpy.linalg import inv"
   ]
  },
  {
   "cell_type": "code",
   "execution_count": 25,
   "metadata": {},
   "outputs": [],
   "source": [
    "with open('outputs/FIGER/ent_to_ind.bin', 'rb') as f:\n",
    "    ent_to_ind = pickle.load(f)\n",
    "\n",
    "with open('outputs/FIGER/type_to_ind.bin', 'rb') as f:\n",
    "    type_to_ind = pickle.load(f)"
   ]
  },
  {
   "cell_type": "code",
   "execution_count": 9,
   "metadata": {},
   "outputs": [],
   "source": [
    "targets[targets==0] = -1"
   ]
  },
  {
   "cell_type": "code",
   "execution_count": 10,
   "metadata": {},
   "outputs": [],
   "source": [
    "targets = torch.tensor(targets, dtype=torch.float)\n",
    "type_adj = batched_target_to_adj(targets)"
   ]
  },
  {
   "cell_type": "code",
   "execution_count": 11,
   "metadata": {},
   "outputs": [],
   "source": [
    "type_adj = torch.sum(type_adj, dim=0)"
   ]
  },
  {
   "cell_type": "code",
   "execution_count": 20,
   "metadata": {},
   "outputs": [
    {
     "data": {
      "text/plain": [
       "(tensor([10270, 12821, 13036, 22742, 22966, 52598, 57963, 63831, 89976, 92174,\n",
       "         95766]),)"
      ]
     },
     "execution_count": 20,
     "metadata": {},
     "output_type": "execute_result"
    }
   ],
   "source": [
    "torch.where((targets[:, 1] == 1) & (targets[:, 0] == 1))"
   ]
  },
  {
   "cell_type": "code",
   "execution_count": 71,
   "metadata": {},
   "outputs": [],
   "source": [
    "type_adj[type_adj > 0] = 1"
   ]
  },
  {
   "cell_type": "code",
   "execution_count": 72,
   "metadata": {},
   "outputs": [
    {
     "data": {
      "text/plain": [
       "tensor([[0., 1., 0.,  ..., 0., 0., 0.],\n",
       "        [1., 0., 1.,  ..., 0., 0., 1.],\n",
       "        [0., 1., 0.,  ..., 0., 0., 0.],\n",
       "        ...,\n",
       "        [0., 0., 0.,  ..., 0., 0., 0.],\n",
       "        [0., 0., 0.,  ..., 0., 0., 0.],\n",
       "        [0., 1., 0.,  ..., 0., 0., 0.]])"
      ]
     },
     "execution_count": 72,
     "metadata": {},
     "output_type": "execute_result"
    }
   ],
   "source": [
    "type_adj"
   ]
  },
  {
   "cell_type": "code",
   "execution_count": 75,
   "metadata": {},
   "outputs": [],
   "source": [
    "c = 0.15"
   ]
  },
  {
   "cell_type": "code",
   "execution_count": 76,
   "metadata": {},
   "outputs": [],
   "source": [
    "type_adj_sp = sp.coo_matrix(type_adj.numpy())"
   ]
  },
  {
   "cell_type": "code",
   "execution_count": 79,
   "metadata": {},
   "outputs": [
    {
     "name": "stderr",
     "output_type": "stream",
     "text": [
      "/home/alex/Projects/gbert/src/utils.py:11: RuntimeWarning: divide by zero encountered in power\n",
      "  r_inv = np.power(row_sum, -0.5).flatten()\n"
     ]
    },
    {
     "data": {
      "text/plain": [
       "array([[0.16345304, 0.02429485, 0.00398539, ..., 0.00632735, 0.00350053,\n",
       "        0.00606842],\n",
       "       [0.02429485, 0.2080718 , 0.01876887, ..., 0.01489574, 0.00959789,\n",
       "        0.02190531],\n",
       "       [0.00398539, 0.01876887, 0.16762743, ..., 0.00734928, 0.00274249,\n",
       "        0.00451467],\n",
       "       ...,\n",
       "       [0.00632735, 0.01489574, 0.00734928, ..., 0.17334213, 0.00622941,\n",
       "        0.0046592 ],\n",
       "       [0.00350053, 0.00959789, 0.00274249, ..., 0.00622941, 0.15822682,\n",
       "        0.00308697],\n",
       "       [0.00606842, 0.02190531, 0.00451467, ..., 0.0046592 , 0.00308697,\n",
       "        0.15653276]])"
      ]
     },
     "execution_count": 79,
     "metadata": {},
     "output_type": "execute_result"
    }
   ],
   "source": [
    "c * inv((sp.eye(type_adj_sp.shape[0]) - (1 - c) * adj_normalize(type_adj_sp)).toarray())"
   ]
  },
  {
   "cell_type": "code",
   "execution_count": 81,
   "metadata": {},
   "outputs": [],
   "source": [
    "def torch_adj_normalize(mx):\n",
    "    row_sum = torch.sum(mx, dim=1)\n",
    "    r_inv = row_sum.pow(-0.5)\n",
    "    r_inv[torch.isinf(r_inv)] = 0\n",
    "    r_mat_inv = torch.diag(r_inv)\n",
    "    return r_mat_inv.mm(mx).mm(r_mat_inv)"
   ]
  },
  {
   "cell_type": "code",
   "execution_count": 82,
   "metadata": {},
   "outputs": [
    {
     "data": {
      "text/plain": [
       "tensor([[0.1635, 0.0243, 0.0040,  ..., 0.0063, 0.0035, 0.0061],\n",
       "        [0.0243, 0.2081, 0.0188,  ..., 0.0149, 0.0096, 0.0219],\n",
       "        [0.0040, 0.0188, 0.1676,  ..., 0.0073, 0.0027, 0.0045],\n",
       "        ...,\n",
       "        [0.0063, 0.0149, 0.0073,  ..., 0.1733, 0.0062, 0.0047],\n",
       "        [0.0035, 0.0096, 0.0027,  ..., 0.0062, 0.1582, 0.0031],\n",
       "        [0.0061, 0.0219, 0.0045,  ..., 0.0047, 0.0031, 0.1565]])"
      ]
     },
     "execution_count": 82,
     "metadata": {},
     "output_type": "execute_result"
    }
   ],
   "source": [
    "c *  torch.inverse(torch.eye(type_adj.shape[0]) - (1 - c) * torch_adj_normalize(type_adj))"
   ]
  },
  {
   "cell_type": "code",
   "execution_count": null,
   "metadata": {
    "collapsed": false,
    "jupyter": {
     "outputs_hidden": false
    },
    "pycharm": {
     "name": "#%%\n"
    }
   },
   "outputs": [],
   "source": [
    "type_adj.to_sparse()"
   ]
  },
  {
   "cell_type": "code",
   "execution_count": 4,
   "metadata": {},
   "outputs": [
    {
     "data": {
      "text/plain": [
       "2.043375159302546"
      ]
     },
     "execution_count": 4,
     "metadata": {},
     "output_type": "execute_result"
    }
   ],
   "source": [
    "np.array([5.977113e-06,0.0052822004,9.092438e-05,1.6851257e-06,9.361878e-05,3.2236278e-07,0.0007488974,0.00013488698,1.9618899e-07,0.018594807,1.7188408e-05,0.32688075,1.40992015e-05,1.8004042e-05,5.4572414e-05,5.5238623e-05,0.76890457,0.117226526,7.921975e-06,0.002331016,0.0005544672,4.6047975e-05,1.2260855e-08,9.196277e-06,0.00013723996,3.8057183e-06,1.6712754e-06,4.1358264e-05,4.172053e-05,0.000110935034,2.2595827e-06,6.3489184e-05,7.306504e-06,2.6943617e-06,0.0019839827,0.00028403258,0.0010405247,1.0210346e-06,4.1852268e-06,0.0001996229,2.1325235e-05,7.801591e-06,2.7332856e-08,0.00028107202,8.169255e-05,3.670326e-05,2.0756616e-07,0.052710906,0.00019514127,2.6256112e-05,0.0001864587,1.2912211e-05,7.6298165e-05,0.009433192,6.559043e-05,1.9783052e-07,0.056373756,2.9929479e-06,7.183687e-08,0.0412252,0.3658614,2.618525e-06,7.920858e-06,2.8234776e-05,0.00020050476,4.722892e-06,7.3672086e-06,3.4553494e-05,7.387561e-05,1.2410587e-06,0.18297282,1.03735545e-07,2.0407546e-05,2.2295286e-05,0.019755458,0.001132958,0.00011376904,1.6049255e-05,6.0456387e-07,0.000105968196,5.01942e-05,2.655951e-06,1.2807429e-05,0.0001667483,7.104325e-05,0.020439604,2.251459e-05,0.00085680996,1.3157426e-05,1.321807e-05,0.0031058297,0.00014235447,8.9012145e-05,3.2188065e-05,0.03723815,0.00052006624,6.9430407e-06,0.00094551226,0.00010507868,0.0033861254,5.1135838e-05,4.3587625e-06]).sum()"
   ]
  },
  {
   "cell_type": "code",
   "execution_count": 8,
   "metadata": {},
   "outputs": [
    {
     "data": {
      "text/plain": [
       "(102,)"
      ]
     },
     "execution_count": 8,
     "metadata": {},
     "output_type": "execute_result"
    }
   ],
   "source": [
    "np.array([7.015576e-06,0.99267286,1.8611607e-06,0.0015034898,4.738438e-05,9.299171e-11,0.018846616,5.6063545e-06,9.494341e-06,0.6763035,1.0765398e-06,0.0005674825,2.889613e-08,2.7451092e-06,2.483098e-06,1.08633905e-07,0.0017217728,2.6146545e-05,9.651045e-07,0.0010298436,2.5201261e-06,6.5940985e-06,6.0215974e-08,7.0647824e-05,0.0006935595,6.1068065e-12,3.6434664e-09,0.31692728,0.0020971927,1.5735024e-08,1.7580184e-09,3.650338e-06,2.414367e-07,1.9267853e-08,1.0588136e-05,4.417814e-08,0.000102249134,1.5194355e-07,6.408016e-06,0.0034328029,1.5064543e-07,3.465526e-07,1.822496e-10,7.8284884e-08,0.019442262,1.7165394e-05,0.0025101427,1.5655953e-05,1.7972205e-05,1.0280878e-07,0.0004168301,3.466046e-09,0.0024079713,3.5935257e-06,0.010375935,2.7532435e-05,0.0009966457,1.2025428e-06,5.3371406e-07,0.00012223404,0.00056245254,6.8199995e-07,4.0121995e-05,5.5512402e-08,1.3757324e-06,0.0003508566,1.797719e-05,9.135649e-07,3.4138097e-07,3.7471422e-05,3.4065044e-05,1.46906805e-05,9.346765e-09,8.916166e-05,0.0005133597,0.0012242921,0.00020369209,2.948968e-07,2.6345064e-09,5.622347e-08,9.6249525e-05,9.783023e-07,3.1971003e-06,2.4890489e-05,0.0011791672,0.00043470593,1.1257031e-06,1.8266783e-05,8.627515e-08,3.0830054e-07,0.00016498001,3.6658973e-06,2.364006e-06,1.4948229e-05,0.00022860778,3.4773948e-05,8.7702483e-07,2.644773e-05,3.6079568e-05,0.00027981962,8.9418384e-10,2.5950446e-06]).shape"
   ]
  },
  {
   "cell_type": "code",
   "execution_count": 27,
   "metadata": {},
   "outputs": [],
   "source": [
    "score = np.array([4.7289905e-05,0.89697355,3.992316e-05,7.657235e-05,3.7795322e-05,2.102361e-05,0.0043331804,6.545822e-05,2.7697884e-05,0.047498643,0.00015244883,0.0015115879,1.9866859e-05,0.00073225563,0.00013147088,0.00010524825,0.011941838,0.00044961434,0.00021585345,0.004435645,3.2222968e-05,9.181237e-05,0.00010736011,7.331944e-05,0.00023249107,8.273384e-05,6.1474886e-05,0.00025920902,4.5053002e-05,0.0001997255,5.116243e-05,4.341399e-05,6.031438e-05,2.384522e-06,0.00011924721,2.170212e-05,0.0004296506,5.6494253e-05,7.75355e-05,5.387055e-05,8.1070735e-05,3.0355998e-06,1.7494262e-05,3.1676478e-05,0.0013580802,0.00017757619,0.00033300713,0.00058954523,4.6462637e-06,1.41848595e-05,0.0014086653,0.000452997,0.00085717073,2.349277e-05,0.00026013644,2.4159377e-05,0.0011030458,0.00010878934,4.7047733e-06,0.00014568954,0.0019935765,0.0007089043,5.7683385e-05,1.60732e-05,7.958996e-06,0.000108255925,2.1698252e-05,0.0010178426,0.00017372172,0.00011533062,0.00020352805,4.1398514e-05,0.00024641273,8.498486e-06,0.0041206963,0.0037348226,0.00012403593,0.00010170217,0.00044789218,1.4148707e-05,1.76713e-05,2.5412306e-05,8.958279e-05,0.00032705348,0.00027830023,0.001979758,5.11495e-05,0.00013873664,2.922984e-05,0.0001337041,0.0011867797,0.0006536954,3.103546e-05,2.3641582e-05,0.0011183998,0.00079898204,0.00016509151,0.0013429174,0.00011997132,0.00018438854,5.333559e-05,6.967406e-05])"
   ]
  },
  {
   "cell_type": "code",
   "execution_count": 28,
   "metadata": {},
   "outputs": [
    {
     "data": {
      "text/plain": [
       "1.0000000005223"
      ]
     },
     "execution_count": 28,
     "metadata": {},
     "output_type": "execute_result"
    }
   ],
   "source": []
  },
  {
   "cell_type": "code",
   "execution_count": 30,
   "metadata": {},
   "outputs": [
    {
     "data": {
      "text/plain": [
       "{'-transit': 0,\n",
       " '-location': 1,\n",
       " '-god': 2,\n",
       " '-building-hotel': 3,\n",
       " '-language': 4,\n",
       " '-education-educational_degree': 5,\n",
       " '-building': 6,\n",
       " '-government-political_party': 7,\n",
       " '-geography-glacier': 8,\n",
       " '-location-city': 9,\n",
       " '-person-engineer': 10,\n",
       " '-person-artist': 11,\n",
       " '-time': 12,\n",
       " '-internet-website': 13,\n",
       " '-government-government': 14,\n",
       " '-disease': 15,\n",
       " '-person': 16,\n",
       " '-music': 17,\n",
       " '-organization-sports_league': 18,\n",
       " '-organization': 19,\n",
       " '-broadcast_network': 20,\n",
       " '-person-architect': 21,\n",
       " '-finance-stock_exchange': 22,\n",
       " '-building-restaurant': 23,\n",
       " '-organization-sports_team': 24,\n",
       " '-product-camera': 25,\n",
       " '-product-spacecraft': 26,\n",
       " '-geography-island': 27,\n",
       " '-geography-mountain': 28,\n",
       " '-software': 29,\n",
       " '-organization-fraternity_sorority': 30,\n",
       " '-person-religious_leader': 31,\n",
       " '-chemistry': 32,\n",
       " '-award': 33,\n",
       " '-play': 34,\n",
       " '-broadcast-tv_channel': 35,\n",
       " '-event': 36,\n",
       " '-biology': 37,\n",
       " '-building-hospital': 38,\n",
       " '-product-ship': 39,\n",
       " '-product-airplane': 40,\n",
       " '-building-library': 41,\n",
       " '-law': 42,\n",
       " '-medicine-symptom': 43,\n",
       " '-location-body_of_water': 44,\n",
       " '-person-monarch': 45,\n",
       " '-building-airport': 46,\n",
       " '-person-director': 47,\n",
       " '-art': 48,\n",
       " '-astral_body': 49,\n",
       " '-organization-educational_institution': 50,\n",
       " '-product-computer': 51,\n",
       " '-transportation-road': 52,\n",
       " '-product': 53,\n",
       " '-location-cemetery': 54,\n",
       " '-rail-railway': 55,\n",
       " '-person-author': 56,\n",
       " '-religion-religion': 57,\n",
       " '-education-department': 58,\n",
       " '-person-musician': 59,\n",
       " '-person-actor': 60,\n",
       " '-finance-currency': 61,\n",
       " '-metropolitan_transit-transit_line': 62,\n",
       " '-newspaper': 63,\n",
       " '-person-doctor': 64,\n",
       " '-location-bridge': 65,\n",
       " '-organization-airline': 66,\n",
       " '-person-soldier': 67,\n",
       " '-livingthing-animal': 68,\n",
       " '-location-province': 69,\n",
       " '-broadcast_program': 70,\n",
       " '-location-country': 71,\n",
       " '-computer-programming_language': 72,\n",
       " '-event-military_conflict': 73,\n",
       " '-written_work': 74,\n",
       " '-organization-company': 75,\n",
       " '-building-sports_facility': 76,\n",
       " '-medicine-medical_treatment': 77,\n",
       " '-product-engine_device': 78,\n",
       " '-body_part': 79,\n",
       " '-event-natural_disaster': 80,\n",
       " '-event-sports_event': 81,\n",
       " '-building-theater': 82,\n",
       " '-food': 83,\n",
       " '-location-county': 84,\n",
       " '-person-athlete': 85,\n",
       " '-visual_art-color': 86,\n",
       " '-person-coach': 87,\n",
       " '-product-car': 88,\n",
       " '-military': 89,\n",
       " '-person-politician': 90,\n",
       " '-game': 91,\n",
       " '-product-instrument': 92,\n",
       " '-train': 93,\n",
       " '-art-film': 94,\n",
       " '-government_agency': 95,\n",
       " '-medicine-drug': 96,\n",
       " '-living_thing': 97,\n",
       " '-people-ethnicity': 98,\n",
       " '-title': 99,\n",
       " '-event-election': 100,\n",
       " '-park': 101}"
      ]
     },
     "execution_count": 30,
     "metadata": {},
     "output_type": "execute_result"
    }
   ],
   "source": [
    "type_to_ind"
   ]
  },
  {
   "cell_type": "code",
   "execution_count": 31,
   "metadata": {},
   "outputs": [],
   "source": [
    "data_array = np.load('data/FIGER/label_emb_fasttext_102_300.npy')"
   ]
  },
  {
   "cell_type": "code",
   "execution_count": 33,
   "metadata": {},
   "outputs": [
    {
     "data": {
      "text/plain": [
       "(102, 300)"
      ]
     },
     "execution_count": 33,
     "metadata": {},
     "output_type": "execute_result"
    }
   ],
   "source": [
    "data_array.shape"
   ]
  },
  {
   "cell_type": "code",
   "execution_count": null,
   "metadata": {},
   "outputs": [],
   "source": []
  }
 ],
 "metadata": {
  "kernelspec": {
   "display_name": "Python 3",
   "language": "python",
   "name": "python3"
  },
  "language_info": {
   "codemirror_mode": {
    "name": "ipython",
    "version": 3
   },
   "file_extension": ".py",
   "mimetype": "text/x-python",
   "name": "python",
   "nbconvert_exporter": "python",
   "pygments_lexer": "ipython3",
   "version": "3.8.2"
  }
 },
 "nbformat": 4,
 "nbformat_minor": 4
}
