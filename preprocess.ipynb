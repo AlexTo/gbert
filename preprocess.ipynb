{
 "cells": [
  {
   "cell_type": "code",
   "execution_count": 1,
   "metadata": {},
   "outputs": [],
   "source": [
    "import argparse\n",
    "\n",
    "import torch\n",
    "from scipy.linalg import inv\n",
    "from src.utils import *\n",
    "from src.WLNodeColoring import *\n",
    "from src.GraphBatching import *\n",
    "import pickle"
   ]
  },
  {
   "cell_type": "code",
   "execution_count": 21,
   "metadata": {},
   "outputs": [],
   "source": [
    "device = torch.device(\"cuda\" if torch.cuda.is_available() else \"cpu\")"
   ]
  },
  {
   "cell_type": "code",
   "execution_count": 3,
   "metadata": {},
   "outputs": [],
   "source": [
    "file_dir = 'data/DBP15K/zh_en/'\n",
    "lang_num = 2"
   ]
  },
  {
   "cell_type": "code",
   "execution_count": 4,
   "metadata": {},
   "outputs": [],
   "source": [
    "def load_nodes(file_dir, lang_num):\n",
    "    paths = [file_dir + \"/ent_ids_\" + str(i) for i in range(1, lang_num + 1)]\n",
    "    node_sets = []\n",
    "    for path in paths:\n",
    "        node_set = np.genfromtxt(path, dtype=np.int32)[:, 0]\n",
    "        node_sets.append(node_set)\n",
    "    return node_sets"
   ]
  },
  {
   "cell_type": "code",
   "execution_count": 5,
   "metadata": {},
   "outputs": [],
   "source": [
    "def load_links(file_dir, lang_num):\n",
    "    paths = [file_dir + \"/triples_\" + str(i) for i in range(1, lang_num + 1)]\n",
    "    link_sets = []\n",
    "    pred_sets = []\n",
    "    for path in paths:\n",
    "        triples = np.genfromtxt(path, dtype=np.int32)\n",
    "        link_set = triples[:, [0, 2]]\n",
    "        pred_set = triples[:, 1]\n",
    "        link_sets.append(link_set)\n",
    "        pred_sets.append(pred_set)\n",
    "    return link_sets, pred_sets"
   ]
  },
  {
   "cell_type": "code",
   "execution_count": 6,
   "metadata": {},
   "outputs": [],
   "source": [
    "def load_data(file_dir, lang_num):\n",
    "    node_sets = load_nodes(file_dir, lang_num)\n",
    "    link_sets, pred_sets = load_links(file_dir, lang_num)\n",
    "    all_links = np.concatenate(link_sets)\n",
    "    all_nodes = np.concatenate(node_sets)\n",
    "\n",
    "    num_links = all_links.shape[0]\n",
    "    num_nodes = all_nodes.shape[0]\n",
    "    adj_matrix = sp.coo_matrix((np.ones(num_links * 2),\n",
    "                                (np.concatenate([all_links[:, 0], all_links[:, 1]]),\n",
    "                                 np.concatenate([all_links[:, 1], all_links[:, 0]]))),\n",
    "                               shape=(num_nodes, num_nodes), dtype=np.float32)\n",
    "    return all_links, all_nodes, adj_matrix"
   ]
  },
  {
   "cell_type": "code",
   "execution_count": 7,
   "metadata": {},
   "outputs": [],
   "source": [
    "def sparse_mx_to_torch_sparse_tensor(sparse_mx):\n",
    "    \"\"\"Convert a scipy sparse matrix to a torch sparse tensor.\"\"\"\n",
    "    sparse_mx = sparse_mx.tocoo().astype(np.float32)\n",
    "    indices = torch.from_numpy(\n",
    "        np.vstack((sparse_mx.row, sparse_mx.col)).astype(np.int64))\n",
    "    values = torch.FloatTensor(sparse_mx.data)\n",
    "    shape = torch.Size(sparse_mx.shape)\n",
    "    return torch.sparse.FloatTensor(indices, values, shape)"
   ]
  },
  {
   "cell_type": "code",
   "execution_count": 8,
   "metadata": {},
   "outputs": [],
   "source": [
    "all_links, all_nodes, adj = load_data(file_dir, lang_num)\n",
    "adj = adj + adj.T.multiply(adj.T > adj) - adj.multiply(adj.T > adj)\n",
    "norm_adj = adj_normalize(adj + sp.eye(adj.shape[0]))"
   ]
  },
  {
   "cell_type": "code",
   "execution_count": 25,
   "metadata": {},
   "outputs": [],
   "source": [
    "eigen_adj_before_inv = torch.tensor((sp.eye(adj.shape[0]) - (1 - c) * norm_adj).todense())\n",
    "eigen_adj_before_inv = eigen_adj_before_inv.to(device)"
   ]
  },
  {
   "cell_type": "code",
   "execution_count": null,
   "metadata": {},
   "outputs": [],
   "source": [
    "c = 0.15\n",
    "eigen_adj = c * torch.inverse(eigen_adj_before_inv)"
   ]
  },
  {
   "cell_type": "code",
   "execution_count": 20,
   "metadata": {},
   "outputs": [
    {
     "data": {
      "text/plain": [
       "tensor(indices=tensor([[    0,   403,  1559,  ..., 14282, 36612, 38959],\n",
       "                       [    0,     0,     0,  ..., 38959, 38959, 38959]]),\n",
       "       values=tensor([ 0.9150, -0.2082, -0.0810,  ..., -0.0911, -0.0927,\n",
       "                       0.7167]),\n",
       "       device='cuda:0', size=(38960, 38960), nnz=298096, layout=torch.sparse_coo)"
      ]
     },
     "execution_count": 20,
     "metadata": {},
     "output_type": "execute_result"
    }
   ],
   "source": [
    "eigen_adj_before_inv"
   ]
  },
  {
   "cell_type": "code",
   "execution_count": 9,
   "metadata": {},
   "outputs": [],
   "source": [
    "wl_node_coloring = WLNodeColoring(all_nodes, all_links)\n",
    "wl = wl_node_coloring.run()"
   ]
  },
  {
   "cell_type": "code",
   "execution_count": 29,
   "metadata": {},
   "outputs": [],
   "source": [
    "a = norm_adj.todense()"
   ]
  },
  {
   "cell_type": "code",
   "execution_count": 31,
   "metadata": {},
   "outputs": [],
   "source": [
    "a = norm_adj[:3, :3]"
   ]
  },
  {
   "cell_type": "code",
   "execution_count": 18,
   "metadata": {},
   "outputs": [],
   "source": [
    "a = sparse_mx_to_torch_sparse_tensor(a)"
   ]
  },
  {
   "cell_type": "code",
   "execution_count": 22,
   "metadata": {},
   "outputs": [],
   "source": [
    "a = a.to(device)"
   ]
  },
  {
   "cell_type": "code",
   "execution_count": 26,
   "metadata": {},
   "outputs": [],
   "source": [
    "a = torch.inverse(a.to_dense())"
   ]
  },
  {
   "cell_type": "code",
   "execution_count": 28,
   "metadata": {},
   "outputs": [
    {
     "data": {
      "text/plain": [
       "tensor([[10.,  0.,  0.],\n",
       "        [ 0., 10.,  0.],\n",
       "        [ 0.,  0.,  4.]], device='cuda:0')"
      ]
     },
     "execution_count": 28,
     "metadata": {},
     "output_type": "execute_result"
    }
   ],
   "source": [
    "a"
   ]
  },
  {
   "cell_type": "code",
   "execution_count": 34,
   "metadata": {},
   "outputs": [
    {
     "data": {
      "text/plain": [
       "array([[10.,  0., -0.],\n",
       "       [ 0., 10., -0.],\n",
       "       [ 0.,  0.,  4.]])"
      ]
     },
     "execution_count": 34,
     "metadata": {},
     "output_type": "execute_result"
    }
   ],
   "source": [
    "inv(a.todense())"
   ]
  },
  {
   "cell_type": "code",
   "execution_count": null,
   "metadata": {},
   "outputs": [],
   "source": []
  }
 ],
 "metadata": {
  "kernelspec": {
   "display_name": "Python 3",
   "language": "python",
   "name": "python3"
  },
  "language_info": {
   "codemirror_mode": {
    "name": "ipython",
    "version": 3
   },
   "file_extension": ".py",
   "mimetype": "text/x-python",
   "name": "python",
   "nbconvert_exporter": "python",
   "pygments_lexer": "ipython3",
   "version": "3.6.9"
  }
 },
 "nbformat": 4,
 "nbformat_minor": 4
}
